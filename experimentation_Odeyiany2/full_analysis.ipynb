{
 "cells": [
  {
   "cell_type": "markdown",
   "metadata": {},
   "source": [
    "## **Nigeria Crime Trends 1997 - 2024**"
   ]
  },
  {
   "cell_type": "markdown",
   "metadata": {},
   "source": [
    "In this project, I will be fully analyzing the dataset based on crimes in Nigeria from 1997 - 2024. I will be finding out trends and patterns in the dataset that will give me more insights on what I am dealing with and move further into predictive analysis."
   ]
  },
  {
   "cell_type": "markdown",
   "metadata": {},
   "source": [
    "### **Importing Necessary Libraries**"
   ]
  },
  {
   "cell_type": "code",
   "execution_count": 22,
   "metadata": {},
   "outputs": [
    {
     "name": "stdout",
     "output_type": "stream",
     "text": [
      "Importation of Libraries Completed\n"
     ]
    }
   ],
   "source": [
    "import pandas as pd\n",
    "import numpy as np\n",
    "import seaborn as sns\n",
    "import matplotlib.pyplot as plt\n",
    "import plotly.express as px\n",
    "import warnings\n",
    "warnings.filterwarnings(\"ignore\")\n",
    "print(\"Importation of Libraries Completed\")"
   ]
  },
  {
   "cell_type": "markdown",
   "metadata": {},
   "source": [
    "### **Data Cleaning and Preprocessing**"
   ]
  },
  {
   "cell_type": "markdown",
   "metadata": {},
   "source": [
    "In this section, I will be thoroughly cleaning the provided dataset. Checking for columns with missing values, duplicates, wrong datatype columns and creating new features if necessary. "
   ]
  },
  {
   "cell_type": "code",
   "execution_count": 23,
   "metadata": {},
   "outputs": [],
   "source": [
    "#reading the dataset\n",
    "data = pd.read_csv(r\"C:\\ML_Project_1\\nigeria-crime-trends\\data\\Nigeria_1997-2024_Sep20.csv\")"
   ]
  },
  {
   "cell_type": "code",
   "execution_count": 24,
   "metadata": {},
   "outputs": [
    {
     "data": {
      "text/html": [
       "<div>\n",
       "<style scoped>\n",
       "    .dataframe tbody tr th:only-of-type {\n",
       "        vertical-align: middle;\n",
       "    }\n",
       "\n",
       "    .dataframe tbody tr th {\n",
       "        vertical-align: top;\n",
       "    }\n",
       "\n",
       "    .dataframe thead th {\n",
       "        text-align: right;\n",
       "    }\n",
       "</style>\n",
       "<table border=\"1\" class=\"dataframe\">\n",
       "  <thead>\n",
       "    <tr style=\"text-align: right;\">\n",
       "      <th></th>\n",
       "      <th>event_id_cnty</th>\n",
       "      <th>event_date</th>\n",
       "      <th>year</th>\n",
       "      <th>time_precision</th>\n",
       "      <th>disorder_type</th>\n",
       "      <th>event_type</th>\n",
       "      <th>sub_event_type</th>\n",
       "      <th>actor1</th>\n",
       "      <th>assoc_actor_1</th>\n",
       "      <th>inter1</th>\n",
       "      <th>...</th>\n",
       "      <th>location</th>\n",
       "      <th>latitude</th>\n",
       "      <th>longitude</th>\n",
       "      <th>geo_precision</th>\n",
       "      <th>source</th>\n",
       "      <th>source_scale</th>\n",
       "      <th>notes</th>\n",
       "      <th>fatalities</th>\n",
       "      <th>tags</th>\n",
       "      <th>timestamp</th>\n",
       "    </tr>\n",
       "  </thead>\n",
       "  <tbody>\n",
       "    <tr>\n",
       "      <th>0</th>\n",
       "      <td>NIG38575</td>\n",
       "      <td>2024-09-20</td>\n",
       "      <td>2024</td>\n",
       "      <td>1</td>\n",
       "      <td>Demonstrations</td>\n",
       "      <td>Protests</td>\n",
       "      <td>Peaceful protest</td>\n",
       "      <td>Protesters (Nigeria)</td>\n",
       "      <td>Refugees/IDPs (Nigeria)</td>\n",
       "      <td>6</td>\n",
       "      <td>...</td>\n",
       "      <td>Bolori</td>\n",
       "      <td>11.8826</td>\n",
       "      <td>13.0890</td>\n",
       "      <td>1</td>\n",
       "      <td>Whatsapp</td>\n",
       "      <td>New media</td>\n",
       "      <td>On 20 September 2024, IDPs (flood victims) fro...</td>\n",
       "      <td>0</td>\n",
       "      <td>crowd size=no report</td>\n",
       "      <td>1727134598</td>\n",
       "    </tr>\n",
       "    <tr>\n",
       "      <th>1</th>\n",
       "      <td>NIG38585</td>\n",
       "      <td>2024-09-20</td>\n",
       "      <td>2024</td>\n",
       "      <td>2</td>\n",
       "      <td>Demonstrations</td>\n",
       "      <td>Protests</td>\n",
       "      <td>Peaceful protest</td>\n",
       "      <td>Protesters (Nigeria)</td>\n",
       "      <td>Muslim Group (Nigeria)</td>\n",
       "      <td>6</td>\n",
       "      <td>...</td>\n",
       "      <td>Ile-Ife</td>\n",
       "      <td>7.4824</td>\n",
       "      <td>4.5603</td>\n",
       "      <td>1</td>\n",
       "      <td>Daily Trust (Nigeria)</td>\n",
       "      <td>National</td>\n",
       "      <td>Around 20 September 2024 (as reported), hundre...</td>\n",
       "      <td>0</td>\n",
       "      <td>crowd size=hundreds</td>\n",
       "      <td>1727134598</td>\n",
       "    </tr>\n",
       "    <tr>\n",
       "      <th>2</th>\n",
       "      <td>NIG38581</td>\n",
       "      <td>2024-09-19</td>\n",
       "      <td>2024</td>\n",
       "      <td>1</td>\n",
       "      <td>Demonstrations</td>\n",
       "      <td>Protests</td>\n",
       "      <td>Peaceful protest</td>\n",
       "      <td>Protesters (Nigeria)</td>\n",
       "      <td>NaN</td>\n",
       "      <td>6</td>\n",
       "      <td>...</td>\n",
       "      <td>Agodi</td>\n",
       "      <td>7.4035</td>\n",
       "      <td>3.9132</td>\n",
       "      <td>1</td>\n",
       "      <td>Daily Post (Nigeria); Guardian (Nigeria); Saha...</td>\n",
       "      <td>National-Regional</td>\n",
       "      <td>On 19 September 2024, for a second consecutive...</td>\n",
       "      <td>0</td>\n",
       "      <td>crowd size=hundreds</td>\n",
       "      <td>1727134598</td>\n",
       "    </tr>\n",
       "    <tr>\n",
       "      <th>3</th>\n",
       "      <td>NIG38588</td>\n",
       "      <td>2024-09-19</td>\n",
       "      <td>2024</td>\n",
       "      <td>1</td>\n",
       "      <td>Strategic developments</td>\n",
       "      <td>Strategic developments</td>\n",
       "      <td>Disrupted weapons use</td>\n",
       "      <td>Police Forces of Nigeria (2023-)</td>\n",
       "      <td>NaN</td>\n",
       "      <td>1</td>\n",
       "      <td>...</td>\n",
       "      <td>Buruku</td>\n",
       "      <td>10.6179</td>\n",
       "      <td>7.2331</td>\n",
       "      <td>1</td>\n",
       "      <td>Daily Post (Nigeria); Nigeria Punch</td>\n",
       "      <td>National</td>\n",
       "      <td>Weapons seizure: On 19 September 2024, Police ...</td>\n",
       "      <td>0</td>\n",
       "      <td>NaN</td>\n",
       "      <td>1727134598</td>\n",
       "    </tr>\n",
       "    <tr>\n",
       "      <th>4</th>\n",
       "      <td>NIG38591</td>\n",
       "      <td>2024-09-19</td>\n",
       "      <td>2024</td>\n",
       "      <td>1</td>\n",
       "      <td>Demonstrations</td>\n",
       "      <td>Protests</td>\n",
       "      <td>Peaceful protest</td>\n",
       "      <td>Protesters (Nigeria)</td>\n",
       "      <td>PDP: People's Democratic Party</td>\n",
       "      <td>6</td>\n",
       "      <td>...</td>\n",
       "      <td>Wanno</td>\n",
       "      <td>7.1389</td>\n",
       "      <td>6.5724</td>\n",
       "      <td>1</td>\n",
       "      <td>Vanguard (Nigeria)</td>\n",
       "      <td>National</td>\n",
       "      <td>On 19 September 2024, PDP youths protested at ...</td>\n",
       "      <td>0</td>\n",
       "      <td>crowd size=no report</td>\n",
       "      <td>1727134598</td>\n",
       "    </tr>\n",
       "  </tbody>\n",
       "</table>\n",
       "<p>5 rows × 31 columns</p>\n",
       "</div>"
      ],
      "text/plain": [
       "  event_id_cnty  event_date  year  time_precision           disorder_type  \\\n",
       "0      NIG38575  2024-09-20  2024               1          Demonstrations   \n",
       "1      NIG38585  2024-09-20  2024               2          Demonstrations   \n",
       "2      NIG38581  2024-09-19  2024               1          Demonstrations   \n",
       "3      NIG38588  2024-09-19  2024               1  Strategic developments   \n",
       "4      NIG38591  2024-09-19  2024               1          Demonstrations   \n",
       "\n",
       "               event_type         sub_event_type  \\\n",
       "0                Protests       Peaceful protest   \n",
       "1                Protests       Peaceful protest   \n",
       "2                Protests       Peaceful protest   \n",
       "3  Strategic developments  Disrupted weapons use   \n",
       "4                Protests       Peaceful protest   \n",
       "\n",
       "                             actor1                   assoc_actor_1  inter1  \\\n",
       "0              Protesters (Nigeria)         Refugees/IDPs (Nigeria)       6   \n",
       "1              Protesters (Nigeria)          Muslim Group (Nigeria)       6   \n",
       "2              Protesters (Nigeria)                             NaN       6   \n",
       "3  Police Forces of Nigeria (2023-)                             NaN       1   \n",
       "4              Protesters (Nigeria)  PDP: People's Democratic Party       6   \n",
       "\n",
       "   ... location latitude  longitude  geo_precision  \\\n",
       "0  ...   Bolori  11.8826    13.0890              1   \n",
       "1  ...  Ile-Ife   7.4824     4.5603              1   \n",
       "2  ...    Agodi   7.4035     3.9132              1   \n",
       "3  ...   Buruku  10.6179     7.2331              1   \n",
       "4  ...    Wanno   7.1389     6.5724              1   \n",
       "\n",
       "                                              source       source_scale  \\\n",
       "0                                           Whatsapp          New media   \n",
       "1                              Daily Trust (Nigeria)           National   \n",
       "2  Daily Post (Nigeria); Guardian (Nigeria); Saha...  National-Regional   \n",
       "3                Daily Post (Nigeria); Nigeria Punch           National   \n",
       "4                                 Vanguard (Nigeria)           National   \n",
       "\n",
       "                                               notes fatalities  \\\n",
       "0  On 20 September 2024, IDPs (flood victims) fro...          0   \n",
       "1  Around 20 September 2024 (as reported), hundre...          0   \n",
       "2  On 19 September 2024, for a second consecutive...          0   \n",
       "3  Weapons seizure: On 19 September 2024, Police ...          0   \n",
       "4  On 19 September 2024, PDP youths protested at ...          0   \n",
       "\n",
       "                   tags   timestamp  \n",
       "0  crowd size=no report  1727134598  \n",
       "1   crowd size=hundreds  1727134598  \n",
       "2   crowd size=hundreds  1727134598  \n",
       "3                   NaN  1727134598  \n",
       "4  crowd size=no report  1727134598  \n",
       "\n",
       "[5 rows x 31 columns]"
      ]
     },
     "execution_count": 24,
     "metadata": {},
     "output_type": "execute_result"
    }
   ],
   "source": [
    "#getting the first five rows in the data\n",
    "data.head()"
   ]
  },
  {
   "cell_type": "code",
   "execution_count": 25,
   "metadata": {},
   "outputs": [
    {
     "data": {
      "text/plain": [
       "(38076, 31)"
      ]
     },
     "execution_count": 25,
     "metadata": {},
     "output_type": "execute_result"
    }
   ],
   "source": [
    "#getting the number of rows and columns in the dataset\n",
    "data.shape"
   ]
  },
  {
   "cell_type": "code",
   "execution_count": 26,
   "metadata": {},
   "outputs": [
    {
     "name": "stdout",
     "output_type": "stream",
     "text": [
      "<class 'pandas.core.frame.DataFrame'>\n",
      "RangeIndex: 38076 entries, 0 to 38075\n",
      "Data columns (total 31 columns):\n",
      " #   Column              Non-Null Count  Dtype  \n",
      "---  ------              --------------  -----  \n",
      " 0   event_id_cnty       38076 non-null  object \n",
      " 1   event_date          38076 non-null  object \n",
      " 2   year                38076 non-null  int64  \n",
      " 3   time_precision      38076 non-null  int64  \n",
      " 4   disorder_type       38076 non-null  object \n",
      " 5   event_type          38076 non-null  object \n",
      " 6   sub_event_type      38076 non-null  object \n",
      " 7   actor1              38076 non-null  object \n",
      " 8   assoc_actor_1       10199 non-null  object \n",
      " 9   inter1              38076 non-null  int64  \n",
      " 10  actor2              29525 non-null  object \n",
      " 11  assoc_actor_2       8803 non-null   object \n",
      " 12  inter2              38076 non-null  int64  \n",
      " 13  interaction         38076 non-null  int64  \n",
      " 14  civilian_targeting  14964 non-null  object \n",
      " 15  iso                 38076 non-null  int64  \n",
      " 16  region              38076 non-null  object \n",
      " 17  country             38076 non-null  object \n",
      " 18  admin1              38075 non-null  object \n",
      " 19  admin2              38075 non-null  object \n",
      " 20  admin3              0 non-null      float64\n",
      " 21  location            38076 non-null  object \n",
      " 22  latitude            38076 non-null  float64\n",
      " 23  longitude           38076 non-null  float64\n",
      " 24  geo_precision       38076 non-null  int64  \n",
      " 25  source              38076 non-null  object \n",
      " 26  source_scale        38076 non-null  object \n",
      " 27  notes               38076 non-null  object \n",
      " 28  fatalities          38076 non-null  int64  \n",
      " 29  tags                7514 non-null   object \n",
      " 30  timestamp           38076 non-null  int64  \n",
      "dtypes: float64(3), int64(9), object(19)\n",
      "memory usage: 9.0+ MB\n"
     ]
    }
   ],
   "source": [
    "#getting a summary on the columns and its datatypes\n",
    "data.info()"
   ]
  },
  {
   "cell_type": "markdown",
   "metadata": {},
   "source": [
    "From the above information summary, some columns are in the wrong datatypes.Columns such as `event_date` and `year` are treated as object and int data type respectively instead of datetime. I will be changing that. Also some columns have some missing values. Further investigation on the columns will the number of missing values a column has."
   ]
  },
  {
   "cell_type": "code",
   "execution_count": 47,
   "metadata": {},
   "outputs": [
    {
     "data": {
      "text/plain": [
       "0"
      ]
     },
     "execution_count": 47,
     "metadata": {},
     "output_type": "execute_result"
    }
   ],
   "source": [
    "#checking for duplicates\n",
    "data.duplicated().sum()"
   ]
  },
  {
   "cell_type": "code",
   "execution_count": 27,
   "metadata": {},
   "outputs": [],
   "source": [
    "#changing the datatpy of the columns: evendate and year to python datatime \n",
    "data[\"event_date\"] = pd.to_datetime(data[\"event_date\"])\n",
    "data[\"year\"] = pd.to_datetime(data[\"year\"])"
   ]
  },
  {
   "cell_type": "code",
   "execution_count": 28,
   "metadata": {},
   "outputs": [
    {
     "data": {
      "text/plain": [
       "0                                  NaN\n",
       "1                                  NaN\n",
       "2                                  NaN\n",
       "3    Kaduna Communal Militia (Nigeria)\n",
       "4                                  NaN\n",
       "Name: actor2, dtype: object"
      ]
     },
     "execution_count": 28,
     "metadata": {},
     "output_type": "execute_result"
    }
   ],
   "source": [
    "#checking the columns that were not captured in our data.head() to see \n",
    "# if they have the right datatype as captured by our data.info code\n",
    "#column one\n",
    "data[\"actor2\"].head()"
   ]
  },
  {
   "cell_type": "code",
   "execution_count": 29,
   "metadata": {},
   "outputs": [
    {
     "data": {
      "text/plain": [
       "0                                                  NaN\n",
       "1                                                  NaN\n",
       "2                                                  NaN\n",
       "3                                                  NaN\n",
       "4                                                  NaN\n",
       "                             ...                      \n",
       "38066              UNCP: United Nigeria Congress Party\n",
       "38067                                              NaN\n",
       "38068    NADECO: National Democratic Coalition Militia\n",
       "38069                                              NaN\n",
       "38070                         Health Workers (Nigeria)\n",
       "Name: assoc_actor_2, Length: 38071, dtype: object"
      ]
     },
     "execution_count": 29,
     "metadata": {},
     "output_type": "execute_result"
    }
   ],
   "source": [
    "#column 2\n",
    "data[\"assoc_actor_2\"].head(-5)"
   ]
  },
  {
   "cell_type": "code",
   "execution_count": 30,
   "metadata": {},
   "outputs": [
    {
     "data": {
      "text/plain": [
       "0                       NaN\n",
       "1                       NaN\n",
       "2                       NaN\n",
       "3                       NaN\n",
       "4                       NaN\n",
       "                ...        \n",
       "38066    Civilian targeting\n",
       "38067                   NaN\n",
       "38068    Civilian targeting\n",
       "38069    Civilian targeting\n",
       "38070    Civilian targeting\n",
       "Name: civilian_targeting, Length: 38071, dtype: object"
      ]
     },
     "execution_count": 30,
     "metadata": {},
     "output_type": "execute_result"
    }
   ],
   "source": [
    "#column 3\n",
    "data[\"civilian_targeting\"].head(-5)"
   ]
  },
  {
   "cell_type": "code",
   "execution_count": 31,
   "metadata": {},
   "outputs": [
    {
     "name": "stdout",
     "output_type": "stream",
     "text": [
      "The number of missing values in the assoc_actor_1 is 27877 with a percentage of 73.21%\n",
      "The number of missing values in the actor2 is 8551 with a percentage of 22.46%\n",
      "The number of missing values in the assoc_actor_2 is 29273 with a percentage of 76.88%\n",
      "The number of missing values in the civilian_targeting is 23112 with a percentage of 60.70%\n",
      "The number of missing values in the admin1 is 1 with a percentage of 0.00%\n",
      "The number of missing values in the admin2 is 1 with a percentage of 0.00%\n",
      "The number of missing values in the admin3 is 38076 with a percentage of 100.00%\n",
      "The number of missing values in the tags is 30562 with a percentage of 80.27%\n"
     ]
    }
   ],
   "source": [
    "#program to check columns with missing values\n",
    "for col in data.columns:\n",
    "    nan = data[col].isnull().sum() #checking the missing values\n",
    "    if nan > 0:\n",
    "        percentage = (nan / len(data[col])) * 100  # calculate percentage only if there are missing values\n",
    "        print(f\"The number of missing values in the {col} is {nan} with a percentage of {percentage:.2f}%\")"
   ]
  },
  {
   "cell_type": "markdown",
   "metadata": {},
   "source": [
    "Some columns have over 50% of missing values. Before dropping I will be doing a further investigation on the columns and then filling up the columns that I decide not to drop with an appropriate technique.  "
   ]
  },
  {
   "cell_type": "code",
   "execution_count": 32,
   "metadata": {},
   "outputs": [
    {
     "data": {
      "text/plain": [
       "assoc_actor_1\n",
       "Pastoralists (Nigeria)                                                               2230\n",
       "Vigilante Group (Nigeria)                                                             754\n",
       "Students (Nigeria)                                                                    684\n",
       "Labor Group (Nigeria)                                                                 623\n",
       "APC: All Progressives Congress                                                        426\n",
       "                                                                                     ... \n",
       "Ogolo Boys                                                                              1\n",
       "CAN: Christian Association of Nigeria; Christian Group (Nigeria); Women (Nigeria)       1\n",
       "Muslim Group (Nigeria); Osun Coalition of Muslims for Justice                           1\n",
       "Hearse, Ambulance, Casket, Mortuary Decorators Union; Labor Group (Nigeria)             1\n",
       "Police Forces of Nigeria (1993-1999)                                                    1\n",
       "Name: count, Length: 1218, dtype: int64"
      ]
     },
     "execution_count": 32,
     "metadata": {},
     "output_type": "execute_result"
    }
   ],
   "source": [
    "data[\"assoc_actor_1\"].value_counts()"
   ]
  },
  {
   "cell_type": "markdown",
   "metadata": {},
   "source": [
    "The number of missing values for this column `assoc_actor_1` is extremely high. I"
   ]
  },
  {
   "cell_type": "code",
   "execution_count": 33,
   "metadata": {},
   "outputs": [
    {
     "data": {
      "text/plain": [
       "actor2\n",
       "Civilians (Nigeria)                                         15439\n",
       "Police Forces of Nigeria (2015-2023)                         1414\n",
       "Military Forces of Nigeria (2015-2023)                       1395\n",
       "Unidentified Armed Group (Nigeria)                           1224\n",
       "Boko Haram - Jamaatu Ahli is-Sunnah lid-Dawati wal-Jihad      833\n",
       "                                                            ...  \n",
       "Yantumaki Communal Militia (Nigeria)                            1\n",
       "Agudama-Epie Communal Militia (Nigeria)                         1\n",
       "Edogi Communal Militia (Nigeria)                                1\n",
       "Lokpanta Communal Militia (Nigeria)                             1\n",
       "Uneme-Nekhua Communal Militia (Nigeria)                         1\n",
       "Name: count, Length: 883, dtype: int64"
      ]
     },
     "execution_count": 33,
     "metadata": {},
     "output_type": "execute_result"
    }
   ],
   "source": [
    "data[\"actor2\"].value_counts()"
   ]
  },
  {
   "cell_type": "markdown",
   "metadata": {},
   "source": [
    "The missing values is not that high and from using the value_counts() method, the most frequent occurrence is Civilians and I will be filling up the missing columns with that."
   ]
  },
  {
   "cell_type": "code",
   "execution_count": 34,
   "metadata": {},
   "outputs": [
    {
     "data": {
      "text/plain": [
       "assoc_actor_2\n",
       "Labor Group (Nigeria)                                                        692\n",
       "Farmers (Nigeria)                                                            677\n",
       "Women (Nigeria)                                                              562\n",
       "PDP: People's Democratic Party                                               378\n",
       "APC: All Progressives Congress                                               373\n",
       "                                                                            ... \n",
       "Women (Nigeria); Labor Group (Nigeria); Akwuke Communal Militia (Nigeria)      1\n",
       "PSN: Pharmaceutical Society of Nigeria; Labor Group (Nigeria)                  1\n",
       "Isuokoma Communal Group (Nigeria)                                              1\n",
       "Government of Nigeria (2015-2023); Panyam Communal Group (Nigeria)             1\n",
       "NADECO: National Democratic Coalition Militia                                  1\n",
       "Name: count, Length: 1381, dtype: int64"
      ]
     },
     "execution_count": 34,
     "metadata": {},
     "output_type": "execute_result"
    }
   ],
   "source": [
    "data[\"assoc_actor_2\"].value_counts()"
   ]
  },
  {
   "cell_type": "markdown",
   "metadata": {},
   "source": [
    "The missing values for this column is also very high and I will be dropping it off. "
   ]
  },
  {
   "cell_type": "code",
   "execution_count": 35,
   "metadata": {},
   "outputs": [
    {
     "data": {
      "text/plain": [
       "civilian_targeting\n",
       "Civilian targeting    14964\n",
       "Name: count, dtype: int64"
      ]
     },
     "execution_count": 35,
     "metadata": {},
     "output_type": "execute_result"
    }
   ],
   "source": [
    "data[\"civilian_targeting\"].value_counts()"
   ]
  },
  {
   "cell_type": "markdown",
   "metadata": {},
   "source": [
    "The missing columns for this column is high but from using the `value_counts()` method we can see that the column has only one value. I can decide to drop it off or fill it up with the same thing.  I will fill it up for the time being to perform data visualizations and then drop off later on. "
   ]
  },
  {
   "cell_type": "code",
   "execution_count": 36,
   "metadata": {},
   "outputs": [
    {
     "data": {
      "text/plain": [
       "admin1\n",
       "Borno                        5612\n",
       "Kaduna                       2439\n",
       "Lagos                        2118\n",
       "Federal Capital Territory    1881\n",
       "Delta                        1772\n",
       "Zamfara                      1584\n",
       "Rivers                       1547\n",
       "Plateau                      1392\n",
       "Benue                        1352\n",
       "Katsina                      1345\n",
       "Anambra                      1120\n",
       "Niger                        1047\n",
       "Edo                           961\n",
       "Imo                           916\n",
       "Bayelsa                       859\n",
       "Ogun                          849\n",
       "Oyo                           791\n",
       "Taraba                        758\n",
       "Osun                          756\n",
       "Ondo                          740\n",
       "Enugu                         725\n",
       "Adamawa                       698\n",
       "Yobe                          637\n",
       "Kogi                          609\n",
       "Sokoto                        601\n",
       "Cross River                   583\n",
       "Nassarawa                     579\n",
       "Kano                          540\n",
       "Abia                          524\n",
       "Akwa Ibom                     476\n",
       "Ebonyi                        472\n",
       "Kwara                         433\n",
       "Ekiti                         411\n",
       "Bauchi                        411\n",
       "Jigawa                        180\n",
       "Gombe                         179\n",
       "Kebbi                         178\n",
       "Name: count, dtype: int64"
      ]
     },
     "execution_count": 36,
     "metadata": {},
     "output_type": "execute_result"
    }
   ],
   "source": [
    "data[\"admin1\"].value_counts()"
   ]
  },
  {
   "cell_type": "markdown",
   "metadata": {},
   "source": [
    "This column has only one missing value so I will fill it up with the most common occurence in the dataset."
   ]
  },
  {
   "cell_type": "code",
   "execution_count": 37,
   "metadata": {},
   "outputs": [
    {
     "data": {
      "text/plain": [
       "tags\n",
       "crowd size=no report                                       5355\n",
       "local administrators                                        639\n",
       "crowd size=hundreds                                         403\n",
       "crowd size=scores                                           111\n",
       "women targeted: relatives of targeted groups or persons     102\n",
       "                                                           ... \n",
       "crowd size=over 700                                           1\n",
       "crowd size=about 1000                                         1\n",
       "crowd size=109                                                1\n",
       "crowd size=hundreds of thousands                              1\n",
       "crowd size=at least 10                                        1\n",
       "Name: count, Length: 221, dtype: int64"
      ]
     },
     "execution_count": 37,
     "metadata": {},
     "output_type": "execute_result"
    }
   ],
   "source": [
    "data[\"tags\"].value_counts()"
   ]
  },
  {
   "cell_type": "markdown",
   "metadata": {},
   "source": [
    "Over 80% of this column does not have values. I will be dropping it also. "
   ]
  },
  {
   "cell_type": "code",
   "execution_count": 38,
   "metadata": {},
   "outputs": [],
   "source": [
    "#dropping the unnecessary columns\n",
    "data.drop(columns=[\"tags\", \"assoc_actor_2\", \"assoc_actor_1\"], inplace = True)"
   ]
  },
  {
   "cell_type": "code",
   "execution_count": 39,
   "metadata": {},
   "outputs": [],
   "source": [
    "#also dropping admin3 column because it is completely empty\n",
    "data.drop(columns = \"admin3\", inplace = True)"
   ]
  },
  {
   "cell_type": "code",
   "execution_count": 40,
   "metadata": {},
   "outputs": [],
   "source": [
    "#filling up columns with missing values with the most occuring values for our categorical columns\n",
    "for col in data.columns:\n",
    "    if data[col].isnull().sum() > 0 and data[col].dtype == \"object\":\n",
    "        data[col].fillna(data[col].mode()[0], inplace = True)"
   ]
  },
  {
   "cell_type": "code",
   "execution_count": 41,
   "metadata": {},
   "outputs": [
    {
     "data": {
      "text/plain": [
       "event_id_cnty         0\n",
       "event_date            0\n",
       "year                  0\n",
       "time_precision        0\n",
       "disorder_type         0\n",
       "event_type            0\n",
       "sub_event_type        0\n",
       "actor1                0\n",
       "inter1                0\n",
       "actor2                0\n",
       "inter2                0\n",
       "interaction           0\n",
       "civilian_targeting    0\n",
       "iso                   0\n",
       "region                0\n",
       "country               0\n",
       "admin1                0\n",
       "admin2                0\n",
       "location              0\n",
       "latitude              0\n",
       "longitude             0\n",
       "geo_precision         0\n",
       "source                0\n",
       "source_scale          0\n",
       "notes                 0\n",
       "fatalities            0\n",
       "timestamp             0\n",
       "dtype: int64"
      ]
     },
     "execution_count": 41,
     "metadata": {},
     "output_type": "execute_result"
    }
   ],
   "source": [
    "#recheck to see if I still have any missing columns in the dataset\n",
    "data.isnull().sum()"
   ]
  },
  {
   "cell_type": "code",
   "execution_count": 42,
   "metadata": {},
   "outputs": [],
   "source": [
    "#transforming the event date column to get more features\n",
    "\n",
    "#getting a month column to measure seasonal patterns\n",
    "data[\"month\"] = data[\"event_date\"].dt.month"
   ]
  },
  {
   "cell_type": "code",
   "execution_count": 43,
   "metadata": {},
   "outputs": [
    {
     "data": {
      "text/html": [
       "<div>\n",
       "<style scoped>\n",
       "    .dataframe tbody tr th:only-of-type {\n",
       "        vertical-align: middle;\n",
       "    }\n",
       "\n",
       "    .dataframe tbody tr th {\n",
       "        vertical-align: top;\n",
       "    }\n",
       "\n",
       "    .dataframe thead th {\n",
       "        text-align: right;\n",
       "    }\n",
       "</style>\n",
       "<table border=\"1\" class=\"dataframe\">\n",
       "  <thead>\n",
       "    <tr style=\"text-align: right;\">\n",
       "      <th></th>\n",
       "      <th>event_id_cnty</th>\n",
       "      <th>event_date</th>\n",
       "      <th>year</th>\n",
       "      <th>time_precision</th>\n",
       "      <th>disorder_type</th>\n",
       "      <th>event_type</th>\n",
       "      <th>sub_event_type</th>\n",
       "      <th>actor1</th>\n",
       "      <th>inter1</th>\n",
       "      <th>actor2</th>\n",
       "      <th>...</th>\n",
       "      <th>location</th>\n",
       "      <th>latitude</th>\n",
       "      <th>longitude</th>\n",
       "      <th>geo_precision</th>\n",
       "      <th>source</th>\n",
       "      <th>source_scale</th>\n",
       "      <th>notes</th>\n",
       "      <th>fatalities</th>\n",
       "      <th>timestamp</th>\n",
       "      <th>month</th>\n",
       "    </tr>\n",
       "  </thead>\n",
       "  <tbody>\n",
       "    <tr>\n",
       "      <th>0</th>\n",
       "      <td>NIG38575</td>\n",
       "      <td>2024-09-20</td>\n",
       "      <td>1970-01-01 00:00:00.000002024</td>\n",
       "      <td>1</td>\n",
       "      <td>Demonstrations</td>\n",
       "      <td>Protests</td>\n",
       "      <td>Peaceful protest</td>\n",
       "      <td>Protesters (Nigeria)</td>\n",
       "      <td>6</td>\n",
       "      <td>Civilians (Nigeria)</td>\n",
       "      <td>...</td>\n",
       "      <td>Bolori</td>\n",
       "      <td>11.8826</td>\n",
       "      <td>13.0890</td>\n",
       "      <td>1</td>\n",
       "      <td>Whatsapp</td>\n",
       "      <td>New media</td>\n",
       "      <td>On 20 September 2024, IDPs (flood victims) fro...</td>\n",
       "      <td>0</td>\n",
       "      <td>1727134598</td>\n",
       "      <td>9</td>\n",
       "    </tr>\n",
       "    <tr>\n",
       "      <th>1</th>\n",
       "      <td>NIG38585</td>\n",
       "      <td>2024-09-20</td>\n",
       "      <td>1970-01-01 00:00:00.000002024</td>\n",
       "      <td>2</td>\n",
       "      <td>Demonstrations</td>\n",
       "      <td>Protests</td>\n",
       "      <td>Peaceful protest</td>\n",
       "      <td>Protesters (Nigeria)</td>\n",
       "      <td>6</td>\n",
       "      <td>Civilians (Nigeria)</td>\n",
       "      <td>...</td>\n",
       "      <td>Ile-Ife</td>\n",
       "      <td>7.4824</td>\n",
       "      <td>4.5603</td>\n",
       "      <td>1</td>\n",
       "      <td>Daily Trust (Nigeria)</td>\n",
       "      <td>National</td>\n",
       "      <td>Around 20 September 2024 (as reported), hundre...</td>\n",
       "      <td>0</td>\n",
       "      <td>1727134598</td>\n",
       "      <td>9</td>\n",
       "    </tr>\n",
       "    <tr>\n",
       "      <th>2</th>\n",
       "      <td>NIG38581</td>\n",
       "      <td>2024-09-19</td>\n",
       "      <td>1970-01-01 00:00:00.000002024</td>\n",
       "      <td>1</td>\n",
       "      <td>Demonstrations</td>\n",
       "      <td>Protests</td>\n",
       "      <td>Peaceful protest</td>\n",
       "      <td>Protesters (Nigeria)</td>\n",
       "      <td>6</td>\n",
       "      <td>Civilians (Nigeria)</td>\n",
       "      <td>...</td>\n",
       "      <td>Agodi</td>\n",
       "      <td>7.4035</td>\n",
       "      <td>3.9132</td>\n",
       "      <td>1</td>\n",
       "      <td>Daily Post (Nigeria); Guardian (Nigeria); Saha...</td>\n",
       "      <td>National-Regional</td>\n",
       "      <td>On 19 September 2024, for a second consecutive...</td>\n",
       "      <td>0</td>\n",
       "      <td>1727134598</td>\n",
       "      <td>9</td>\n",
       "    </tr>\n",
       "    <tr>\n",
       "      <th>3</th>\n",
       "      <td>NIG38588</td>\n",
       "      <td>2024-09-19</td>\n",
       "      <td>1970-01-01 00:00:00.000002024</td>\n",
       "      <td>1</td>\n",
       "      <td>Strategic developments</td>\n",
       "      <td>Strategic developments</td>\n",
       "      <td>Disrupted weapons use</td>\n",
       "      <td>Police Forces of Nigeria (2023-)</td>\n",
       "      <td>1</td>\n",
       "      <td>Kaduna Communal Militia (Nigeria)</td>\n",
       "      <td>...</td>\n",
       "      <td>Buruku</td>\n",
       "      <td>10.6179</td>\n",
       "      <td>7.2331</td>\n",
       "      <td>1</td>\n",
       "      <td>Daily Post (Nigeria); Nigeria Punch</td>\n",
       "      <td>National</td>\n",
       "      <td>Weapons seizure: On 19 September 2024, Police ...</td>\n",
       "      <td>0</td>\n",
       "      <td>1727134598</td>\n",
       "      <td>9</td>\n",
       "    </tr>\n",
       "    <tr>\n",
       "      <th>4</th>\n",
       "      <td>NIG38591</td>\n",
       "      <td>2024-09-19</td>\n",
       "      <td>1970-01-01 00:00:00.000002024</td>\n",
       "      <td>1</td>\n",
       "      <td>Demonstrations</td>\n",
       "      <td>Protests</td>\n",
       "      <td>Peaceful protest</td>\n",
       "      <td>Protesters (Nigeria)</td>\n",
       "      <td>6</td>\n",
       "      <td>Civilians (Nigeria)</td>\n",
       "      <td>...</td>\n",
       "      <td>Wanno</td>\n",
       "      <td>7.1389</td>\n",
       "      <td>6.5724</td>\n",
       "      <td>1</td>\n",
       "      <td>Vanguard (Nigeria)</td>\n",
       "      <td>National</td>\n",
       "      <td>On 19 September 2024, PDP youths protested at ...</td>\n",
       "      <td>0</td>\n",
       "      <td>1727134598</td>\n",
       "      <td>9</td>\n",
       "    </tr>\n",
       "  </tbody>\n",
       "</table>\n",
       "<p>5 rows × 28 columns</p>\n",
       "</div>"
      ],
      "text/plain": [
       "  event_id_cnty event_date                          year  time_precision  \\\n",
       "0      NIG38575 2024-09-20 1970-01-01 00:00:00.000002024               1   \n",
       "1      NIG38585 2024-09-20 1970-01-01 00:00:00.000002024               2   \n",
       "2      NIG38581 2024-09-19 1970-01-01 00:00:00.000002024               1   \n",
       "3      NIG38588 2024-09-19 1970-01-01 00:00:00.000002024               1   \n",
       "4      NIG38591 2024-09-19 1970-01-01 00:00:00.000002024               1   \n",
       "\n",
       "            disorder_type              event_type         sub_event_type  \\\n",
       "0          Demonstrations                Protests       Peaceful protest   \n",
       "1          Demonstrations                Protests       Peaceful protest   \n",
       "2          Demonstrations                Protests       Peaceful protest   \n",
       "3  Strategic developments  Strategic developments  Disrupted weapons use   \n",
       "4          Demonstrations                Protests       Peaceful protest   \n",
       "\n",
       "                             actor1  inter1  \\\n",
       "0              Protesters (Nigeria)       6   \n",
       "1              Protesters (Nigeria)       6   \n",
       "2              Protesters (Nigeria)       6   \n",
       "3  Police Forces of Nigeria (2023-)       1   \n",
       "4              Protesters (Nigeria)       6   \n",
       "\n",
       "                              actor2  ...  location  latitude longitude  \\\n",
       "0                Civilians (Nigeria)  ...    Bolori   11.8826   13.0890   \n",
       "1                Civilians (Nigeria)  ...   Ile-Ife    7.4824    4.5603   \n",
       "2                Civilians (Nigeria)  ...     Agodi    7.4035    3.9132   \n",
       "3  Kaduna Communal Militia (Nigeria)  ...    Buruku   10.6179    7.2331   \n",
       "4                Civilians (Nigeria)  ...     Wanno    7.1389    6.5724   \n",
       "\n",
       "   geo_precision                                             source  \\\n",
       "0              1                                           Whatsapp   \n",
       "1              1                              Daily Trust (Nigeria)   \n",
       "2              1  Daily Post (Nigeria); Guardian (Nigeria); Saha...   \n",
       "3              1                Daily Post (Nigeria); Nigeria Punch   \n",
       "4              1                                 Vanguard (Nigeria)   \n",
       "\n",
       "        source_scale                                              notes  \\\n",
       "0          New media  On 20 September 2024, IDPs (flood victims) fro...   \n",
       "1           National  Around 20 September 2024 (as reported), hundre...   \n",
       "2  National-Regional  On 19 September 2024, for a second consecutive...   \n",
       "3           National  Weapons seizure: On 19 September 2024, Police ...   \n",
       "4           National  On 19 September 2024, PDP youths protested at ...   \n",
       "\n",
       "  fatalities   timestamp  month  \n",
       "0          0  1727134598      9  \n",
       "1          0  1727134598      9  \n",
       "2          0  1727134598      9  \n",
       "3          0  1727134598      9  \n",
       "4          0  1727134598      9  \n",
       "\n",
       "[5 rows x 28 columns]"
      ]
     },
     "execution_count": 43,
     "metadata": {},
     "output_type": "execute_result"
    }
   ],
   "source": [
    "data.head()"
   ]
  },
  {
   "cell_type": "code",
   "execution_count": 45,
   "metadata": {},
   "outputs": [],
   "source": [
    "#mapping the month column \n",
    "mapping = {\n",
    "    1: \"January\",\n",
    "    2: \"February\",\n",
    "    3: \"March\",\n",
    "    4: \"April\",\n",
    "    5: \"May\",\n",
    "    6: \"June\",\n",
    "    7: \"July\",\n",
    "    8: \"August\",\n",
    "    9: \"September\",\n",
    "    10: \"October\",\n",
    "    11: \"November\",\n",
    "    12: \"December\"\n",
    "}\n",
    "\n",
    "data[\"month\"] = data[\"month\"].map(mapping)"
   ]
  },
  {
   "cell_type": "code",
   "execution_count": 46,
   "metadata": {},
   "outputs": [
    {
     "data": {
      "text/plain": [
       "month\n",
       "March        3490\n",
       "May          3487\n",
       "January      3482\n",
       "April        3362\n",
       "February     3341\n",
       "June         3275\n",
       "July         3248\n",
       "August       3238\n",
       "October      2855\n",
       "December     2809\n",
       "November     2767\n",
       "September    2722\n",
       "Name: count, dtype: int64"
      ]
     },
     "execution_count": 46,
     "metadata": {},
     "output_type": "execute_result"
    }
   ],
   "source": [
    "data[\"month\"].value_counts()"
   ]
  },
  {
   "cell_type": "code",
   "execution_count": null,
   "metadata": {},
   "outputs": [],
   "source": []
  }
 ],
 "metadata": {
  "kernelspec": {
   "display_name": "Python 3",
   "language": "python",
   "name": "python3"
  },
  "language_info": {
   "codemirror_mode": {
    "name": "ipython",
    "version": 3
   },
   "file_extension": ".py",
   "mimetype": "text/x-python",
   "name": "python",
   "nbconvert_exporter": "python",
   "pygments_lexer": "ipython3",
   "version": "3.12.6"
  }
 },
 "nbformat": 4,
 "nbformat_minor": 2
}
