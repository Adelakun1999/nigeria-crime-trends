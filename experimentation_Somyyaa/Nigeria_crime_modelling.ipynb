{
 "cells": [
  {
   "cell_type": "markdown",
   "metadata": {},
   "source": [
    "MODEL DEVELOPMENT AND EVALUATION"
   ]
  },
  {
   "cell_type": "code",
   "execution_count": 1,
   "metadata": {},
   "outputs": [],
   "source": [
    "import pandas as pd"
   ]
  },
  {
   "cell_type": "code",
   "execution_count": 2,
   "metadata": {},
   "outputs": [],
   "source": [
    "df=pd.read_csv('Nigeria_1997-2024_Sep20_cleaned.csv')"
   ]
  },
  {
   "cell_type": "code",
   "execution_count": 3,
   "metadata": {},
   "outputs": [
    {
     "data": {
      "text/html": [
       "<div>\n",
       "<style scoped>\n",
       "    .dataframe tbody tr th:only-of-type {\n",
       "        vertical-align: middle;\n",
       "    }\n",
       "\n",
       "    .dataframe tbody tr th {\n",
       "        vertical-align: top;\n",
       "    }\n",
       "\n",
       "    .dataframe thead th {\n",
       "        text-align: right;\n",
       "    }\n",
       "</style>\n",
       "<table border=\"1\" class=\"dataframe\">\n",
       "  <thead>\n",
       "    <tr style=\"text-align: right;\">\n",
       "      <th></th>\n",
       "      <th>event_date</th>\n",
       "      <th>year</th>\n",
       "      <th>disorder_type</th>\n",
       "      <th>event_type</th>\n",
       "      <th>sub_event_type</th>\n",
       "      <th>actor1</th>\n",
       "      <th>inter1</th>\n",
       "      <th>civilian_targeting</th>\n",
       "      <th>admin1</th>\n",
       "      <th>admin2</th>\n",
       "      <th>location</th>\n",
       "      <th>latitude</th>\n",
       "      <th>longitude</th>\n",
       "      <th>fatalities</th>\n",
       "    </tr>\n",
       "  </thead>\n",
       "  <tbody>\n",
       "    <tr>\n",
       "      <th>0</th>\n",
       "      <td>2024-09-20</td>\n",
       "      <td>2024</td>\n",
       "      <td>Demonstrations</td>\n",
       "      <td>Protests</td>\n",
       "      <td>Peaceful protest</td>\n",
       "      <td>Protesters (Nigeria)</td>\n",
       "      <td>6</td>\n",
       "      <td>Unknown</td>\n",
       "      <td>Borno</td>\n",
       "      <td>Maiduguri Metro</td>\n",
       "      <td>Bolori</td>\n",
       "      <td>11.8826</td>\n",
       "      <td>13.0890</td>\n",
       "      <td>0</td>\n",
       "    </tr>\n",
       "    <tr>\n",
       "      <th>1</th>\n",
       "      <td>2024-09-20</td>\n",
       "      <td>2024</td>\n",
       "      <td>Demonstrations</td>\n",
       "      <td>Protests</td>\n",
       "      <td>Peaceful protest</td>\n",
       "      <td>Protesters (Nigeria)</td>\n",
       "      <td>6</td>\n",
       "      <td>Unknown</td>\n",
       "      <td>Osun</td>\n",
       "      <td>Ife Central</td>\n",
       "      <td>Ile-Ife</td>\n",
       "      <td>7.4824</td>\n",
       "      <td>4.5603</td>\n",
       "      <td>0</td>\n",
       "    </tr>\n",
       "    <tr>\n",
       "      <th>2</th>\n",
       "      <td>2024-09-19</td>\n",
       "      <td>2024</td>\n",
       "      <td>Demonstrations</td>\n",
       "      <td>Protests</td>\n",
       "      <td>Peaceful protest</td>\n",
       "      <td>Protesters (Nigeria)</td>\n",
       "      <td>6</td>\n",
       "      <td>Unknown</td>\n",
       "      <td>Oyo</td>\n",
       "      <td>Ibadan North</td>\n",
       "      <td>Agodi</td>\n",
       "      <td>7.4035</td>\n",
       "      <td>3.9132</td>\n",
       "      <td>0</td>\n",
       "    </tr>\n",
       "    <tr>\n",
       "      <th>3</th>\n",
       "      <td>2024-09-19</td>\n",
       "      <td>2024</td>\n",
       "      <td>Strategic developments</td>\n",
       "      <td>Strategic developments</td>\n",
       "      <td>Disrupted weapons use</td>\n",
       "      <td>Police Forces of Nigeria (2023-)</td>\n",
       "      <td>1</td>\n",
       "      <td>Unknown</td>\n",
       "      <td>Kaduna</td>\n",
       "      <td>Chikun</td>\n",
       "      <td>Buruku</td>\n",
       "      <td>10.6179</td>\n",
       "      <td>7.2331</td>\n",
       "      <td>0</td>\n",
       "    </tr>\n",
       "    <tr>\n",
       "      <th>4</th>\n",
       "      <td>2024-09-19</td>\n",
       "      <td>2024</td>\n",
       "      <td>Demonstrations</td>\n",
       "      <td>Protests</td>\n",
       "      <td>Peaceful protest</td>\n",
       "      <td>Protesters (Nigeria)</td>\n",
       "      <td>6</td>\n",
       "      <td>Unknown</td>\n",
       "      <td>Edo</td>\n",
       "      <td>Etsako East</td>\n",
       "      <td>Wanno</td>\n",
       "      <td>7.1389</td>\n",
       "      <td>6.5724</td>\n",
       "      <td>0</td>\n",
       "    </tr>\n",
       "  </tbody>\n",
       "</table>\n",
       "</div>"
      ],
      "text/plain": [
       "   event_date  year           disorder_type              event_type  \\\n",
       "0  2024-09-20  2024          Demonstrations                Protests   \n",
       "1  2024-09-20  2024          Demonstrations                Protests   \n",
       "2  2024-09-19  2024          Demonstrations                Protests   \n",
       "3  2024-09-19  2024  Strategic developments  Strategic developments   \n",
       "4  2024-09-19  2024          Demonstrations                Protests   \n",
       "\n",
       "          sub_event_type                            actor1  inter1  \\\n",
       "0       Peaceful protest              Protesters (Nigeria)       6   \n",
       "1       Peaceful protest              Protesters (Nigeria)       6   \n",
       "2       Peaceful protest              Protesters (Nigeria)       6   \n",
       "3  Disrupted weapons use  Police Forces of Nigeria (2023-)       1   \n",
       "4       Peaceful protest              Protesters (Nigeria)       6   \n",
       "\n",
       "  civilian_targeting  admin1           admin2 location  latitude  longitude  \\\n",
       "0            Unknown   Borno  Maiduguri Metro   Bolori   11.8826    13.0890   \n",
       "1            Unknown    Osun      Ife Central  Ile-Ife    7.4824     4.5603   \n",
       "2            Unknown     Oyo     Ibadan North    Agodi    7.4035     3.9132   \n",
       "3            Unknown  Kaduna           Chikun   Buruku   10.6179     7.2331   \n",
       "4            Unknown     Edo      Etsako East    Wanno    7.1389     6.5724   \n",
       "\n",
       "   fatalities  \n",
       "0           0  \n",
       "1           0  \n",
       "2           0  \n",
       "3           0  \n",
       "4           0  "
      ]
     },
     "execution_count": 3,
     "metadata": {},
     "output_type": "execute_result"
    }
   ],
   "source": [
    "df.head()"
   ]
  },
  {
   "cell_type": "code",
   "execution_count": 4,
   "metadata": {},
   "outputs": [
    {
     "data": {
      "text/plain": [
       "event_date            0\n",
       "year                  0\n",
       "disorder_type         0\n",
       "event_type            0\n",
       "sub_event_type        0\n",
       "actor1                0\n",
       "inter1                0\n",
       "civilian_targeting    0\n",
       "admin1                0\n",
       "admin2                0\n",
       "location              0\n",
       "latitude              0\n",
       "longitude             0\n",
       "fatalities            0\n",
       "dtype: int64"
      ]
     },
     "execution_count": 4,
     "metadata": {},
     "output_type": "execute_result"
    }
   ],
   "source": [
    "#Confirming that there are no NaN values in the dataframe\n",
    "df.isna().sum()"
   ]
  },
  {
   "cell_type": "code",
   "execution_count": 5,
   "metadata": {},
   "outputs": [
    {
     "data": {
      "text/plain": [
       "(37794, 14)"
      ]
     },
     "execution_count": 5,
     "metadata": {},
     "output_type": "execute_result"
    }
   ],
   "source": [
    "import numpy as np\n",
    "df.shape"
   ]
  },
  {
   "cell_type": "markdown",
   "metadata": {},
   "source": [
    "FEATURE ENGINEERING"
   ]
  },
  {
   "cell_type": "code",
   "execution_count": 6,
   "metadata": {},
   "outputs": [],
   "source": [
    "df['event_date'] = pd.to_datetime(df['event_date'])\n",
    "\n",
    "# Extract year, month, and day of week\n",
    "df['month'] = df['event_date'].dt.month\n",
    "df['day_of_week'] = df['event_date'].dt.dayofweek  # Monday=0, Sunday=6\n",
    "df['day_of_month'] = df['event_date'].dt.day\n",
    "df = df.drop(columns=['event_date'])"
   ]
  },
  {
   "cell_type": "code",
   "execution_count": 7,
   "metadata": {},
   "outputs": [
    {
     "name": "stdout",
     "output_type": "stream",
     "text": [
      "       year  disorder_type  event_type  sub_event_type  actor1  inter1  \\\n",
      "0      2024              0           2              17     737       6   \n",
      "1      2024              0           2              17     737       6   \n",
      "2      2024              0           2              17     737       6   \n",
      "3      2024              3           4               7     723       1   \n",
      "4      2024              0           2              17     737       6   \n",
      "...     ...            ...         ...             ...     ...     ...   \n",
      "37789  1997              1           0               3     335       4   \n",
      "37790  1997              1           0               3     335       4   \n",
      "37791  1997              1           0               3     214       4   \n",
      "37792  1997              1           0               3     214       4   \n",
      "37793  1997              1           1              19     831       3   \n",
      "\n",
      "       civilian_targeting  admin1  location  latitude  longitude  fatalities  \\\n",
      "0                       1       7       775   11.8826    13.0890           0   \n",
      "1                       1      29      2095    7.4824     4.5603           0   \n",
      "2                       1      30       153    7.4035     3.9132           0   \n",
      "3                       1      18       867   10.6179     7.2331           0   \n",
      "4                       1      11      4918    7.1389     6.5724           0   \n",
      "...                   ...     ...       ...       ...        ...         ...   \n",
      "37789                   1       9      4929    5.5167     5.7500           3   \n",
      "37790                   1       5      3415    4.8966     6.0744           1   \n",
      "37791                   1      22      2960    7.8024     6.7430           3   \n",
      "37792                   1       8      4657    5.8086     8.0812           1   \n",
      "37793                   1      24      2903    6.4531     3.3958           2   \n",
      "\n",
      "       month  day_of_week  day_of_month  admin2_encoded  \n",
      "0          9            4            20             458  \n",
      "1          9            4            20             286  \n",
      "2          9            3            19             263  \n",
      "3          9            3            19             131  \n",
      "4          9            3            19             200  \n",
      "...      ...          ...           ...             ...  \n",
      "37789      1            4            10             723  \n",
      "37790      1            4            10             644  \n",
      "37791      1            3             9             451  \n",
      "37792      1            2             8             733  \n",
      "37793      1            1             7             441  \n",
      "\n",
      "[37794 rows x 16 columns]\n"
     ]
    }
   ],
   "source": [
    "#Converting categorical data to numeric data as ML models can not be applied upon strings.\n",
    "from sklearn.preprocessing import LabelEncoder\n",
    "\n",
    "# Initialize LabelEncoder\n",
    "label_encoder = LabelEncoder()\n",
    "\n",
    "# Apply label encoding to the 'admin2' column\n",
    "df['admin2_encoded'] = label_encoder.fit_transform(df['admin2'])\n",
    "\n",
    "df = df.drop('admin2', axis=1)\n",
    "\n",
    "# Identify categorical columns\n",
    "categorical_columns = df.select_dtypes(include=['object']).columns\n",
    "\n",
    "# Apply Label Encoding to each categorical column\n",
    "for column in categorical_columns:\n",
    "    df[column] = label_encoder.fit_transform(df[column])\n",
    "\n",
    "# Check the updated DataFrame\n",
    "print(df)"
   ]
  },
  {
   "cell_type": "code",
   "execution_count": 8,
   "metadata": {},
   "outputs": [],
   "source": [
    "# Encode inter1 (interaction type) if it's not numeric\n",
    "df['inter1'] = df['inter1'].astype(int)\n",
    "\n",
    "# Encode civilian_targeting (turn 'Unknown' into 0, or others into 1 if applicable)\n",
    "df['civilian_targeting'] = df['civilian_targeting'].apply(lambda x: 0 if x == 'Unknown' else 1)"
   ]
  },
  {
   "cell_type": "code",
   "execution_count": 9,
   "metadata": {},
   "outputs": [
    {
     "data": {
      "text/html": [
       "<div>\n",
       "<style scoped>\n",
       "    .dataframe tbody tr th:only-of-type {\n",
       "        vertical-align: middle;\n",
       "    }\n",
       "\n",
       "    .dataframe tbody tr th {\n",
       "        vertical-align: top;\n",
       "    }\n",
       "\n",
       "    .dataframe thead th {\n",
       "        text-align: right;\n",
       "    }\n",
       "</style>\n",
       "<table border=\"1\" class=\"dataframe\">\n",
       "  <thead>\n",
       "    <tr style=\"text-align: right;\">\n",
       "      <th></th>\n",
       "      <th>year</th>\n",
       "      <th>disorder_type</th>\n",
       "      <th>event_type</th>\n",
       "      <th>sub_event_type</th>\n",
       "      <th>actor1</th>\n",
       "      <th>inter1</th>\n",
       "      <th>civilian_targeting</th>\n",
       "      <th>admin1</th>\n",
       "      <th>location</th>\n",
       "      <th>latitude</th>\n",
       "      <th>longitude</th>\n",
       "      <th>fatalities</th>\n",
       "      <th>month</th>\n",
       "      <th>day_of_week</th>\n",
       "      <th>day_of_month</th>\n",
       "      <th>admin2_encoded</th>\n",
       "    </tr>\n",
       "  </thead>\n",
       "  <tbody>\n",
       "    <tr>\n",
       "      <th>0</th>\n",
       "      <td>2024</td>\n",
       "      <td>0</td>\n",
       "      <td>2</td>\n",
       "      <td>17</td>\n",
       "      <td>737</td>\n",
       "      <td>6</td>\n",
       "      <td>1</td>\n",
       "      <td>7</td>\n",
       "      <td>775</td>\n",
       "      <td>11.8826</td>\n",
       "      <td>13.0890</td>\n",
       "      <td>0</td>\n",
       "      <td>9</td>\n",
       "      <td>4</td>\n",
       "      <td>20</td>\n",
       "      <td>458</td>\n",
       "    </tr>\n",
       "    <tr>\n",
       "      <th>1</th>\n",
       "      <td>2024</td>\n",
       "      <td>0</td>\n",
       "      <td>2</td>\n",
       "      <td>17</td>\n",
       "      <td>737</td>\n",
       "      <td>6</td>\n",
       "      <td>1</td>\n",
       "      <td>29</td>\n",
       "      <td>2095</td>\n",
       "      <td>7.4824</td>\n",
       "      <td>4.5603</td>\n",
       "      <td>0</td>\n",
       "      <td>9</td>\n",
       "      <td>4</td>\n",
       "      <td>20</td>\n",
       "      <td>286</td>\n",
       "    </tr>\n",
       "    <tr>\n",
       "      <th>2</th>\n",
       "      <td>2024</td>\n",
       "      <td>0</td>\n",
       "      <td>2</td>\n",
       "      <td>17</td>\n",
       "      <td>737</td>\n",
       "      <td>6</td>\n",
       "      <td>1</td>\n",
       "      <td>30</td>\n",
       "      <td>153</td>\n",
       "      <td>7.4035</td>\n",
       "      <td>3.9132</td>\n",
       "      <td>0</td>\n",
       "      <td>9</td>\n",
       "      <td>3</td>\n",
       "      <td>19</td>\n",
       "      <td>263</td>\n",
       "    </tr>\n",
       "    <tr>\n",
       "      <th>3</th>\n",
       "      <td>2024</td>\n",
       "      <td>3</td>\n",
       "      <td>4</td>\n",
       "      <td>7</td>\n",
       "      <td>723</td>\n",
       "      <td>1</td>\n",
       "      <td>1</td>\n",
       "      <td>18</td>\n",
       "      <td>867</td>\n",
       "      <td>10.6179</td>\n",
       "      <td>7.2331</td>\n",
       "      <td>0</td>\n",
       "      <td>9</td>\n",
       "      <td>3</td>\n",
       "      <td>19</td>\n",
       "      <td>131</td>\n",
       "    </tr>\n",
       "    <tr>\n",
       "      <th>4</th>\n",
       "      <td>2024</td>\n",
       "      <td>0</td>\n",
       "      <td>2</td>\n",
       "      <td>17</td>\n",
       "      <td>737</td>\n",
       "      <td>6</td>\n",
       "      <td>1</td>\n",
       "      <td>11</td>\n",
       "      <td>4918</td>\n",
       "      <td>7.1389</td>\n",
       "      <td>6.5724</td>\n",
       "      <td>0</td>\n",
       "      <td>9</td>\n",
       "      <td>3</td>\n",
       "      <td>19</td>\n",
       "      <td>200</td>\n",
       "    </tr>\n",
       "  </tbody>\n",
       "</table>\n",
       "</div>"
      ],
      "text/plain": [
       "   year  disorder_type  event_type  sub_event_type  actor1  inter1  \\\n",
       "0  2024              0           2              17     737       6   \n",
       "1  2024              0           2              17     737       6   \n",
       "2  2024              0           2              17     737       6   \n",
       "3  2024              3           4               7     723       1   \n",
       "4  2024              0           2              17     737       6   \n",
       "\n",
       "   civilian_targeting  admin1  location  latitude  longitude  fatalities  \\\n",
       "0                   1       7       775   11.8826    13.0890           0   \n",
       "1                   1      29      2095    7.4824     4.5603           0   \n",
       "2                   1      30       153    7.4035     3.9132           0   \n",
       "3                   1      18       867   10.6179     7.2331           0   \n",
       "4                   1      11      4918    7.1389     6.5724           0   \n",
       "\n",
       "   month  day_of_week  day_of_month  admin2_encoded  \n",
       "0      9            4            20             458  \n",
       "1      9            4            20             286  \n",
       "2      9            3            19             263  \n",
       "3      9            3            19             131  \n",
       "4      9            3            19             200  "
      ]
     },
     "execution_count": 9,
     "metadata": {},
     "output_type": "execute_result"
    }
   ],
   "source": [
    "df.head()"
   ]
  },
  {
   "cell_type": "markdown",
   "metadata": {},
   "source": [
    "ML MODELLING"
   ]
  },
  {
   "cell_type": "code",
   "execution_count": 10,
   "metadata": {},
   "outputs": [],
   "source": [
    "# For splitting data into train data and test data\n",
    "from sklearn.model_selection import train_test_split"
   ]
  },
  {
   "cell_type": "code",
   "execution_count": 11,
   "metadata": {},
   "outputs": [],
   "source": [
    "# Define features and target variable\n",
    "X = df.drop('fatalities', axis=1)  # Feature set\n",
    "y = df['fatalities']  # Target variable\n",
    "\n",
    "# Split the data into training and testing sets (60% train, 40% test)\n",
    "X_train, X_test, y_train, y_test = train_test_split(X, y, test_size=0.4, random_state=42)"
   ]
  },
  {
   "cell_type": "code",
   "execution_count": 12,
   "metadata": {},
   "outputs": [],
   "source": [
    "#Import libraries for different ML models\n",
    "from sklearn.linear_model import LogisticRegression #Logistic regression\n",
    "from sklearn.neighbors import KNeighborsClassifier # kNN\n",
    "from sklearn.naive_bayes import GaussianNB # Naive Bayes\n",
    "from sklearn.ensemble import RandomForestClassifier, BaggingClassifier, GradientBoostingClassifier #Random forest, bagging, boosting respectively\n",
    "\n",
    "from sklearn.metrics import accuracy_score"
   ]
  },
  {
   "cell_type": "code",
   "execution_count": 13,
   "metadata": {},
   "outputs": [],
   "source": [
    "# Initialize models\n",
    "models = {\n",
    "    \"Logistic Regression\": LogisticRegression(max_iter=1000),\n",
    "    \"KNN\": KNeighborsClassifier(),\n",
    "    \"Naive Bayes\": GaussianNB(),\n",
    "    \"Random Forest\": RandomForestClassifier(),\n",
    "    \"Bagging\": BaggingClassifier(n_estimators=10),\n",
    "    \"Boosting\": GradientBoostingClassifier()\n",
    "}"
   ]
  },
  {
   "cell_type": "code",
   "execution_count": 14,
   "metadata": {},
   "outputs": [],
   "source": [
    "# Dictionary to store accuracy results\n",
    "accuracy_results = {}"
   ]
  },
  {
   "cell_type": "code",
   "execution_count": 15,
   "metadata": {},
   "outputs": [
    {
     "name": "stderr",
     "output_type": "stream",
     "text": [
      "C:\\Users\\Somya\\AppData\\Local\\Programs\\Python\\Python311\\Lib\\site-packages\\sklearn\\linear_model\\_logistic.py:469: ConvergenceWarning: lbfgs failed to converge (status=1):\n",
      "STOP: TOTAL NO. of ITERATIONS REACHED LIMIT.\n",
      "\n",
      "Increase the number of iterations (max_iter) or scale the data as shown in:\n",
      "    https://scikit-learn.org/stable/modules/preprocessing.html\n",
      "Please also refer to the documentation for alternative solver options:\n",
      "    https://scikit-learn.org/stable/modules/linear_model.html#logistic-regression\n",
      "  n_iter_i = _check_optimize_result(\n"
     ]
    }
   ],
   "source": [
    "# Train and evaluate each model\n",
    "for model_name, model in models.items():\n",
    "    # Fit the model\n",
    "    model.fit(X_train, y_train)\n",
    "\n",
    "    # Make predictions\n",
    "    predictions = model.predict(X_test)\n",
    "\n",
    "    # Calculate accuracy\n",
    "    accuracy = accuracy_score(y_test, predictions)\n",
    "\n",
    "    # Store accuracy in the results dictionary\n",
    "    accuracy_results[model_name] = accuracy"
   ]
  },
  {
   "cell_type": "code",
   "execution_count": 17,
   "metadata": {},
   "outputs": [
    {
     "name": "stdout",
     "output_type": "stream",
     "text": [
      "Logistic Regression: 0.5437\n",
      "KNN: 0.5128\n",
      "Naive Bayes: 0.4283\n",
      "Random Forest: 0.5847\n",
      "Bagging: 0.5654\n",
      "Boosting: 0.5152\n",
      "The best model is: Random Forest with accuracy: 0.5847\n"
     ]
    }
   ],
   "source": [
    "# Display the accuracy results\n",
    "for model_name, accuracy in accuracy_results.items():\n",
    "    print(f\"{model_name}: {accuracy:.4f}\")\n",
    "\n",
    "# Identify the best model\n",
    "best_model = max(accuracy_results, key=accuracy_results.get)\n",
    "print(f\"The best model is: {best_model} with accuracy: {accuracy_results[best_model]:.4f}\")"
   ]
  },
  {
   "cell_type": "code",
   "execution_count": 19,
   "metadata": {},
   "outputs": [],
   "source": [
    "from sklearn.metrics import f1_score"
   ]
  },
  {
   "cell_type": "code",
   "execution_count": 20,
   "metadata": {},
   "outputs": [
    {
     "name": "stdout",
     "output_type": "stream",
     "text": [
      "Training Logistic Regression...\n",
      "Logistic Regression: F1 Score = 0.3842\n",
      "Training KNN...\n",
      "KNN: F1 Score = 0.4415\n",
      "Training Naive Bayes...\n",
      "Naive Bayes: F1 Score = 0.4508\n",
      "Training Random Forest...\n",
      "Random Forest: F1 Score = 0.5459\n",
      "Training Bagging...\n",
      "Bagging: F1 Score = 0.5315\n",
      "Training Boosting...\n",
      "Boosting: F1 Score = 0.4700\n",
      "The best model is: Random Forest with F1 Score = 0.5459\n"
     ]
    }
   ],
   "source": [
    "# Dictionary to store F1 score results\n",
    "f1_score_results = {}\n",
    "\n",
    "# Train and evaluate each model\n",
    "for model_name, model in models.items():\n",
    "    print(f\"Training {model_name}...\")\n",
    "    \n",
    "    # Make predictions\n",
    "    predictions = model.predict(X_test)\n",
    "    \n",
    "    # Calculate F1 score\n",
    "    f1 = f1_score(y_test, predictions, average='weighted')\n",
    "    \n",
    "    # Store F1 score in the results dictionary\n",
    "    f1_score_results[model_name] = f1\n",
    "    print(f\"{model_name}: F1 Score = {f1:.4f}\")\n",
    "\n",
    "# Identify the best model based on F1 score\n",
    "best_model = max(f1_score_results, key=f1_score_results.get)\n",
    "print(f\"The best model is: {best_model} with F1 Score = {f1_score_results[best_model]:.4f}\")"
   ]
  },
  {
   "cell_type": "code",
   "execution_count": null,
   "metadata": {},
   "outputs": [],
   "source": []
  }
 ],
 "metadata": {
  "kernelspec": {
   "display_name": "Python 3",
   "language": "python",
   "name": "python3"
  },
  "language_info": {
   "codemirror_mode": {
    "name": "ipython",
    "version": 3
   },
   "file_extension": ".py",
   "mimetype": "text/x-python",
   "name": "python",
   "nbconvert_exporter": "python",
   "pygments_lexer": "ipython3",
   "version": "3.11.5"
  }
 },
 "nbformat": 4,
 "nbformat_minor": 2
}
